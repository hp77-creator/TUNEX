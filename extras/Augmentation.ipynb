{
 "cells": [
  {
   "cell_type": "code",
   "execution_count": 25,
   "metadata": {},
   "outputs": [],
   "source": [
    "import cv2\n",
    "import os\n",
    "import numpy as np\n"
   ]
  },
  {
   "cell_type": "code",
   "execution_count": 5,
   "metadata": {},
   "outputs": [],
   "source": [
    "from PIL import Image, ImageEnhance, ImageDraw"
   ]
  },
  {
   "cell_type": "code",
   "execution_count": 6,
   "metadata": {},
   "outputs": [],
   "source": [
    "import albumentations as A"
   ]
  },
  {
   "cell_type": "code",
   "execution_count": 11,
   "metadata": {},
   "outputs": [],
   "source": [
    "def data_read(transform):\n",
    "    base_dir='data/'\n",
    "    \n",
    "    dirs=['train', 'test', 'validation']\n",
    "    \n",
    "    data_dir = 'augmentHori/'\n",
    "    \n",
    "    \n",
    "    \n",
    "    \n",
    "    if not os.path.exists(data_dir):\n",
    "        os.mkdir(data_dir)\n",
    "    \n",
    "    count = 1\n",
    "    \n",
    "    for sub in dirs:\n",
    "        curr_dir = base_dir+sub\n",
    "        \n",
    "        for i, j, k in os.walk(curr_dir):\n",
    "            for name in k:\n",
    "                image = Image.open(i+'/'+name)\n",
    "                image = np.array(image)\n",
    "                transformed = transform(image=image)\n",
    "                transformed_img = transformed[\"image\"]\n",
    "                if transformed_img.shape[0] > 0:\n",
    "                    transformed_img = Image.fromarray(transformed_img)\n",
    "                    if not os.path.exists(data_dir+i.split('/')[2]):\n",
    "                        os.mkdir(data_dir+i.split('/')[2]+'/')\n",
    "                    transformed_img.save(data_dir+i.split('/')[2]+'/'+str(count)+'.jpeg', 'JPEG')\n",
    "                    \n",
    "                count += 1\n",
    "                \n",
    "                 \n",
    "                \n",
    "        \n",
    "    \n",
    "    "
   ]
  },
  {
   "cell_type": "markdown",
   "metadata": {},
   "source": [
    "### Horizontal Flip"
   ]
  },
  {
   "cell_type": "code",
   "execution_count": 12,
   "metadata": {},
   "outputs": [],
   "source": [
    "transform = A.Compose([A.HorizontalFlip(p=1.0)])\n",
    "data_read(transform)"
   ]
  },
  {
   "cell_type": "markdown",
   "metadata": {},
   "source": [
    "### Brightness"
   ]
  },
  {
   "cell_type": "code",
   "execution_count": 14,
   "metadata": {},
   "outputs": [],
   "source": [
    "def data_read2(transform):\n",
    "    base_dir='data/'\n",
    "    \n",
    "    dirs=['train', 'test', 'validation']\n",
    "    \n",
    "    data_dir = 'augmentBri/'\n",
    "    \n",
    "    \n",
    "    \n",
    "    \n",
    "    if not os.path.exists(data_dir):\n",
    "        os.mkdir(data_dir)\n",
    "    \n",
    "    count = 1\n",
    "    \n",
    "    for sub in dirs:\n",
    "        curr_dir = base_dir+sub\n",
    "        \n",
    "        for i, j, k in os.walk(curr_dir):\n",
    "            for name in k:\n",
    "                image = Image.open(i+'/'+name)\n",
    "                image = np.array(image)\n",
    "                transformed = transform(image=image)\n",
    "                transformed_img = transformed[\"image\"]\n",
    "                if transformed_img.shape[0] > 0:\n",
    "                    transformed_img = Image.fromarray(transformed_img)\n",
    "                    if not os.path.exists(data_dir+i.split('/')[2]):\n",
    "                        os.mkdir(data_dir+i.split('/')[2]+'/')\n",
    "                    transformed_img.save(data_dir+i.split('/')[2]+'/'+str(count)+'.jpeg', 'JPEG')\n",
    "                    \n",
    "                count += 1\n",
    "                \n",
    "                 \n",
    "                \n",
    "        \n",
    "    \n",
    "    "
   ]
  },
  {
   "cell_type": "code",
   "execution_count": 15,
   "metadata": {},
   "outputs": [],
   "source": [
    "transform = A.Compose([A.RandomBrightnessContrast(p=1.0)])\n",
    "data_read2(transform)"
   ]
  },
  {
   "cell_type": "markdown",
   "metadata": {},
   "source": [
    "### Rotate Right by 30"
   ]
  },
  {
   "cell_type": "code",
   "execution_count": 9,
   "metadata": {},
   "outputs": [],
   "source": [
    "def data_read3(transform):\n",
    "    base_dir='data/'\n",
    "    \n",
    "    dirs=['train', 'test', 'validation']\n",
    "    \n",
    "    data_dir = 'augment30RightRot/'\n",
    "    \n",
    "    \n",
    "    \n",
    "    \n",
    "    if not os.path.exists(data_dir):\n",
    "        os.mkdir(data_dir)\n",
    "    \n",
    "    count = 1\n",
    "    \n",
    "    for sub in dirs:\n",
    "        curr_dir = base_dir+sub\n",
    "        \n",
    "        for i, j, k in os.walk(curr_dir):\n",
    "            for name in k:\n",
    "                image = Image.open(i+'/'+name)\n",
    "                image = np.array(image)\n",
    "                transformed = transform(image=image)\n",
    "                transformed_img = transformed[\"image\"]\n",
    "                if transformed_img.shape[0] > 0:\n",
    "                    transformed_img = Image.fromarray(transformed_img)\n",
    "                    if not os.path.exists(data_dir+i.split('/')[2]):\n",
    "                        os.mkdir(data_dir+i.split('/')[2]+'/')\n",
    "                    transformed_img.save(data_dir+i.split('/')[2]+'/'+str(count)+'.jpeg', 'JPEG')\n",
    "                    \n",
    "                count += 1\n",
    "                \n",
    "                 \n",
    "                \n",
    "        \n",
    "    \n",
    "    "
   ]
  },
  {
   "cell_type": "code",
   "execution_count": 10,
   "metadata": {},
   "outputs": [],
   "source": [
    "transform = A.Compose([A.Rotate(limit=(30,30), p=1.0)])\n",
    "data_read3(transform)"
   ]
  },
  {
   "cell_type": "markdown",
   "metadata": {},
   "source": [
    "### Rotate Left by 30"
   ]
  },
  {
   "cell_type": "code",
   "execution_count": 12,
   "metadata": {},
   "outputs": [],
   "source": [
    "def data_read4(transform):\n",
    "    base_dir='data/'\n",
    "    \n",
    "    dirs=['train', 'test', 'validation']\n",
    "    \n",
    "    data_dir = 'augment30LeftRot/'\n",
    "    \n",
    "    \n",
    "    \n",
    "    \n",
    "    if not os.path.exists(data_dir):\n",
    "        os.mkdir(data_dir)\n",
    "    \n",
    "    count = 1\n",
    "    \n",
    "    for sub in dirs:\n",
    "        curr_dir = base_dir+sub\n",
    "        \n",
    "        for i, j, k in os.walk(curr_dir):\n",
    "            for name in k:\n",
    "                image = Image.open(i+'/'+name)\n",
    "                image = np.array(image)\n",
    "                transformed = transform(image=image)\n",
    "                transformed_img = transformed[\"image\"]\n",
    "                if transformed_img.shape[0] > 0:\n",
    "                    transformed_img = Image.fromarray(transformed_img)\n",
    "                    if not os.path.exists(data_dir+i.split('/')[2]):\n",
    "                        os.mkdir(data_dir+i.split('/')[2]+'/')\n",
    "                    transformed_img.save(data_dir+i.split('/')[2]+'/'+str(count)+'.jpeg', 'JPEG')\n",
    "                    \n",
    "                count += 1\n",
    "                \n",
    "                 \n",
    "                \n",
    "        \n",
    "    \n",
    "    "
   ]
  },
  {
   "cell_type": "code",
   "execution_count": 17,
   "metadata": {},
   "outputs": [],
   "source": [
    "transform = A.Compose([A.Rotate(limit=(-30,-30), p=1.0)])\n",
    "data_read4(transform)"
   ]
  },
  {
   "cell_type": "markdown",
   "metadata": {},
   "source": [
    "### Rotate Right by 15"
   ]
  },
  {
   "cell_type": "code",
   "execution_count": 14,
   "metadata": {},
   "outputs": [],
   "source": [
    "def data_read5(transform):\n",
    "    base_dir='data/'\n",
    "    \n",
    "    dirs=['train', 'test', 'validation']\n",
    "    \n",
    "    data_dir = 'augment15RightRot/'\n",
    "    \n",
    "    \n",
    "    \n",
    "    \n",
    "    if not os.path.exists(data_dir):\n",
    "        os.mkdir(data_dir)\n",
    "    \n",
    "    count = 1\n",
    "    \n",
    "    for sub in dirs:\n",
    "        curr_dir = base_dir+sub\n",
    "        \n",
    "        for i, j, k in os.walk(curr_dir):\n",
    "            for name in k:\n",
    "                image = Image.open(i+'/'+name)\n",
    "                image = np.array(image)\n",
    "                transformed = transform(image=image)\n",
    "                transformed_img = transformed[\"image\"]\n",
    "                if transformed_img.shape[0] > 0:\n",
    "                    transformed_img = Image.fromarray(transformed_img)\n",
    "                    if not os.path.exists(data_dir+i.split('/')[2]):\n",
    "                        os.mkdir(data_dir+i.split('/')[2]+'/')\n",
    "                    transformed_img.save(data_dir+i.split('/')[2]+'/'+str(count)+'.jpeg', 'JPEG')\n",
    "                    \n",
    "                count += 1\n",
    "                \n",
    "                 \n",
    "                \n",
    "        \n",
    "    \n",
    "    "
   ]
  },
  {
   "cell_type": "code",
   "execution_count": 16,
   "metadata": {},
   "outputs": [],
   "source": [
    "transform = A.Compose([A.Rotate(limit=(15, 15), p=1.0)])\n",
    "data_read5(transform)"
   ]
  },
  {
   "cell_type": "markdown",
   "metadata": {},
   "source": [
    "### Rotate Left by 15"
   ]
  },
  {
   "cell_type": "code",
   "execution_count": 18,
   "metadata": {},
   "outputs": [],
   "source": [
    "def data_read6(transform):\n",
    "    base_dir='data/'\n",
    "    \n",
    "    dirs=['train', 'test', 'validation']\n",
    "    \n",
    "    data_dir = 'augment15LeftRot/'\n",
    "    \n",
    "    \n",
    "    \n",
    "    \n",
    "    if not os.path.exists(data_dir):\n",
    "        os.mkdir(data_dir)\n",
    "    \n",
    "    count = 1\n",
    "    \n",
    "    for sub in dirs:\n",
    "        curr_dir = base_dir+sub\n",
    "        \n",
    "        for i, j, k in os.walk(curr_dir):\n",
    "            for name in k:\n",
    "                image = Image.open(i+'/'+name)\n",
    "                image = np.array(image)\n",
    "                transformed = transform(image=image)\n",
    "                transformed_img = transformed[\"image\"]\n",
    "                if transformed_img.shape[0] > 0:\n",
    "                    transformed_img = Image.fromarray(transformed_img)\n",
    "                    if not os.path.exists(data_dir+i.split('/')[2]):\n",
    "                        os.mkdir(data_dir+i.split('/')[2]+'/')\n",
    "                    transformed_img.save(data_dir+i.split('/')[2]+'/'+str(count)+'.jpeg', 'JPEG')\n",
    "                    \n",
    "                count += 1\n",
    "                \n",
    "                 \n",
    "                \n",
    "        \n",
    "    \n",
    "    "
   ]
  },
  {
   "cell_type": "code",
   "execution_count": 19,
   "metadata": {},
   "outputs": [],
   "source": [
    "transform = A.Compose([A.Rotate(limit=(-15, -15), p=1.0)])\n",
    "data_read6(transform)"
   ]
  },
  {
   "cell_type": "markdown",
   "metadata": {},
   "source": [
    "### CLAHE"
   ]
  },
  {
   "cell_type": "code",
   "execution_count": 20,
   "metadata": {},
   "outputs": [],
   "source": [
    "def data_read7(transform):\n",
    "    base_dir='data/'\n",
    "    \n",
    "    dirs=['train', 'test', 'validation']\n",
    "    \n",
    "    data_dir = 'augmentCLAHE/'\n",
    "    \n",
    "    \n",
    "    \n",
    "    \n",
    "    if not os.path.exists(data_dir):\n",
    "        os.mkdir(data_dir)\n",
    "    \n",
    "    count = 1\n",
    "    \n",
    "    for sub in dirs:\n",
    "        curr_dir = base_dir+sub\n",
    "        \n",
    "        for i, j, k in os.walk(curr_dir):\n",
    "            for name in k:\n",
    "                image = Image.open(i+'/'+name)\n",
    "                image = np.array(image)\n",
    "                transformed = transform(image=image)\n",
    "                transformed_img = transformed[\"image\"]\n",
    "                if transformed_img.shape[0] > 0:\n",
    "                    transformed_img = Image.fromarray(transformed_img)\n",
    "                    if not os.path.exists(data_dir+i.split('/')[2]):\n",
    "                        os.mkdir(data_dir+i.split('/')[2]+'/')\n",
    "                    transformed_img.save(data_dir+i.split('/')[2]+'/'+str(count)+'.jpeg', 'JPEG')\n",
    "                    \n",
    "                count += 1\n",
    "                \n",
    "                 \n",
    "                \n",
    "        \n",
    "    \n",
    "    "
   ]
  },
  {
   "cell_type": "code",
   "execution_count": 22,
   "metadata": {},
   "outputs": [],
   "source": [
    "transform = A.Compose([A.CLAHE(p=1.0)])\n",
    "data_read7(transform)"
   ]
  },
  {
   "cell_type": "markdown",
   "metadata": {},
   "source": [
    "### Channel Dropout"
   ]
  },
  {
   "cell_type": "code",
   "execution_count": 26,
   "metadata": {},
   "outputs": [],
   "source": [
    "def data_read8(transform):\n",
    "    base_dir='data/'\n",
    "    \n",
    "    dirs=['train', 'test', 'validation']\n",
    "    \n",
    "    data_dir = 'augmentChanDrop/'\n",
    "    \n",
    "    \n",
    "    \n",
    "    \n",
    "    if not os.path.exists(data_dir):\n",
    "        os.mkdir(data_dir)\n",
    "    \n",
    "    count = 1\n",
    "    \n",
    "    for sub in dirs:\n",
    "        curr_dir = base_dir+sub\n",
    "        \n",
    "        for i, j, k in os.walk(curr_dir):\n",
    "            for name in k:\n",
    "                image = Image.open(i+'/'+name)\n",
    "                image = np.array(image)\n",
    "                transformed = transform(image=image)\n",
    "                transformed_img = transformed[\"image\"]\n",
    "                if transformed_img.shape[0] > 0:\n",
    "                    transformed_img = Image.fromarray(transformed_img)\n",
    "                    if not os.path.exists(data_dir+i.split('/')[2]):\n",
    "                        os.mkdir(data_dir+i.split('/')[2]+'/')\n",
    "                    transformed_img.save(data_dir+i.split('/')[2]+'/'+str(count)+'.jpeg', 'JPEG')\n",
    "                    \n",
    "                count += 1\n",
    "                \n",
    "                 \n",
    "                \n",
    "        \n",
    "    \n",
    "    "
   ]
  },
  {
   "cell_type": "code",
   "execution_count": 27,
   "metadata": {},
   "outputs": [],
   "source": [
    "transform = A.Compose([A.ChannelDropout(p=1.0)])\n",
    "data_read8(transform)"
   ]
  },
  {
   "cell_type": "markdown",
   "metadata": {},
   "source": [
    "### Channel Shuffle"
   ]
  },
  {
   "cell_type": "code",
   "execution_count": 28,
   "metadata": {},
   "outputs": [],
   "source": [
    "def data_read9(transform):\n",
    "    base_dir='data/'\n",
    "    \n",
    "    dirs=['train', 'test', 'validation']\n",
    "    \n",
    "    data_dir = 'augmentChanShuff/'\n",
    "    \n",
    "    \n",
    "    \n",
    "    \n",
    "    if not os.path.exists(data_dir):\n",
    "        os.mkdir(data_dir)\n",
    "    \n",
    "    count = 1\n",
    "    \n",
    "    for sub in dirs:\n",
    "        curr_dir = base_dir+sub\n",
    "        \n",
    "        for i, j, k in os.walk(curr_dir):\n",
    "            for name in k:\n",
    "                image = Image.open(i+'/'+name)\n",
    "                image = np.array(image)\n",
    "                transformed = transform(image=image)\n",
    "                transformed_img = transformed[\"image\"]\n",
    "                if transformed_img.shape[0] > 0:\n",
    "                    transformed_img = Image.fromarray(transformed_img)\n",
    "                    if not os.path.exists(data_dir+i.split('/')[2]):\n",
    "                        os.mkdir(data_dir+i.split('/')[2]+'/')\n",
    "                    transformed_img.save(data_dir+i.split('/')[2]+'/'+str(count)+'.jpeg', 'JPEG')\n",
    "                    \n",
    "                count += 1\n",
    "                \n",
    "                 \n",
    "                "
   ]
  },
  {
   "cell_type": "code",
   "execution_count": 29,
   "metadata": {},
   "outputs": [],
   "source": [
    "transform = A.Compose([A.ChannelShuffle(p=1.0)])\n",
    "data_read9(transform)"
   ]
  },
  {
   "cell_type": "markdown",
   "metadata": {},
   "source": [
    "### Coarse DropOut"
   ]
  },
  {
   "cell_type": "code",
   "execution_count": 30,
   "metadata": {},
   "outputs": [],
   "source": [
    "def data_read10(transform):\n",
    "    base_dir='data/'\n",
    "    \n",
    "    dirs=['train', 'test', 'validation']\n",
    "    \n",
    "    data_dir = 'augmentCoarseDrop/'\n",
    "    \n",
    "    \n",
    "    \n",
    "    \n",
    "    if not os.path.exists(data_dir):\n",
    "        os.mkdir(data_dir)\n",
    "    \n",
    "    count = 1\n",
    "    \n",
    "    for sub in dirs:\n",
    "        curr_dir = base_dir+sub\n",
    "        \n",
    "        for i, j, k in os.walk(curr_dir):\n",
    "            for name in k:\n",
    "                image = Image.open(i+'/'+name)\n",
    "                image = np.array(image)\n",
    "                transformed = transform(image=image)\n",
    "                transformed_img = transformed[\"image\"]\n",
    "                if transformed_img.shape[0] > 0:\n",
    "                    transformed_img = Image.fromarray(transformed_img)\n",
    "                    if not os.path.exists(data_dir+i.split('/')[2]):\n",
    "                        os.mkdir(data_dir+i.split('/')[2]+'/')\n",
    "                    transformed_img.save(data_dir+i.split('/')[2]+'/'+str(count)+'.jpeg', 'JPEG')\n",
    "                    \n",
    "                count += 1\n",
    "                \n",
    "                 \n",
    "                "
   ]
  },
  {
   "cell_type": "code",
   "execution_count": 32,
   "metadata": {},
   "outputs": [],
   "source": [
    "transform = A.Compose([A.CoarseDropout(p=1.0)])\n",
    "data_read10(transform)"
   ]
  },
  {
   "cell_type": "code",
   "execution_count": null,
   "metadata": {},
   "outputs": [],
   "source": []
  }
 ],
 "metadata": {
  "kernelspec": {
   "display_name": "Python 3",
   "language": "python",
   "name": "python3"
  },
  "language_info": {
   "codemirror_mode": {
    "name": "ipython",
    "version": 3
   },
   "file_extension": ".py",
   "mimetype": "text/x-python",
   "name": "python",
   "nbconvert_exporter": "python",
   "pygments_lexer": "ipython3",
   "version": "3.9.0"
  }
 },
 "nbformat": 4,
 "nbformat_minor": 4
}
